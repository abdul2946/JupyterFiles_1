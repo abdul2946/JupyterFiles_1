{
 "cells": [
  {
   "cell_type": "code",
   "execution_count": 5,
   "source": [
    "class Librery:\r\n",
    "    def setName(self, name):\r\n",
    "        self.name=name\r\n",
    "    def getName(self):\r\n",
    "        return self.name\r\n",
    "    def setAuthor(self, author):\r\n",
    "        self.author=author\r\n",
    "    def getAuthor(self):\r\n",
    "        return self.author\r\n",
    "    def setNumber(self, number):\r\n",
    "        self.number=number\r\n",
    "    def getNumber(self):\r\n",
    "        return self.number\r\n",
    "\r\n",
    "n=int(input(\"Enter the number of Books you want to Enter: \"))\r\n",
    "matrix=[]\r\n",
    "for i in range(n):\r\n",
    "    a=[]\r\n",
    "    name=input(\"Enter the Book Name: \")\r\n",
    "    author=input(\"Enter the Author Name: \")\r\n",
    "    number=input(\"Enter the Author Name: \")\r\n",
    "    l=Librery()\r\n",
    "    l.setName(name)\r\n",
    "    l.setAuthor(author)\r\n",
    "    l.setNumber(number)\r\n",
    "    a.append(\"Book Name:  \"+l.getName())\r\n",
    "    a.append(\"Book Author:  \"+l.getAuthor())\r\n",
    "    a.append(\"Book number:  \"+l.getNumber())\r\n",
    "matrix.append(a)\r\n",
    "print(matrix)\r\n",
    "    \r\n",
    "\r\n",
    "\r\n"
   ],
   "outputs": [
    {
     "output_type": "stream",
     "name": "stdout",
     "text": [
      "[['Book Name:Let us C', 'Book Author:Kanetkar', 'Book number:12c4']]\n"
     ]
    }
   ],
   "metadata": {}
  }
 ],
 "metadata": {
  "orig_nbformat": 4,
  "language_info": {
   "name": "python",
   "version": "3.9.6",
   "mimetype": "text/x-python",
   "codemirror_mode": {
    "name": "ipython",
    "version": 3
   },
   "pygments_lexer": "ipython3",
   "nbconvert_exporter": "python",
   "file_extension": ".py"
  },
  "kernelspec": {
   "name": "python3",
   "display_name": "Python 3.9.6 64-bit"
  },
  "interpreter": {
   "hash": "63d8ba1a1936979f6c1afb98ddad62bf0705318e79d81cde0225aaba8dd9c781"
  }
 },
 "nbformat": 4,
 "nbformat_minor": 2
}