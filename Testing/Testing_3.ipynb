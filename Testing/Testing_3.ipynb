{
 "metadata": {
  "language_info": {
   "codemirror_mode": {
    "name": "ipython",
    "version": 3
   },
   "file_extension": ".py",
   "mimetype": "text/x-python",
   "name": "python",
   "nbconvert_exporter": "python",
   "pygments_lexer": "ipython3",
   "version": "3.9.6"
  },
  "orig_nbformat": 2,
  "kernelspec": {
   "name": "python3",
   "display_name": "Python 3.9.6 64-bit"
  },
  "metadata": {
   "interpreter": {
    "hash": "63d8ba1a1936979f6c1afb98ddad62bf0705318e79d81cde0225aaba8dd9c781"
   }
  },
  "interpreter": {
   "hash": "63d8ba1a1936979f6c1afb98ddad62bf0705318e79d81cde0225aaba8dd9c781"
  }
 },
 "nbformat": 4,
 "nbformat_minor": 2,
 "cells": [
  {
   "cell_type": "code",
   "execution_count": 1,
   "source": [
    "def prime_number(num):\r\n",
    "    if num < 2:\r\n",
    "        return 0\r\n",
    "    primes=[2]\r\n",
    "    x=3\r\n",
    "    while x<=num:\r\n",
    "        for y in range(3,x,2):\r\n",
    "            if x%y==0:\r\n",
    "                x+=2\r\n",
    "                break\r\n",
    "        else:\r\n",
    "            primes.append(x)\r\n",
    "            x+=2\r\n",
    "    print(primes)\r\n",
    "    print(len(primes)) "
   ],
   "outputs": [],
   "metadata": {}
  },
  {
   "cell_type": "code",
   "execution_count": 4,
   "source": [
    "prime_number(90)\r\n",
    "prime_number(11)\r\n",
    "prime_number(46)"
   ],
   "outputs": [
    {
     "output_type": "stream",
     "name": "stdout",
     "text": [
      "[2, 3, 5, 7, 11, 13, 17, 19, 23, 29, 31, 37, 41, 43, 47, 53, 59, 61, 67, 71, 73, 79, 83, 89]\n",
      "[2, 3, 5, 7, 11]\n",
      "[2, 3, 5, 7, 11, 13, 17, 19, 23, 29, 31, 37, 41, 43]\n"
     ]
    },
    {
     "output_type": "execute_result",
     "data": {
      "text/plain": [
       "14"
      ]
     },
     "metadata": {},
     "execution_count": 4
    }
   ],
   "metadata": {}
  },
  {
   "cell_type": "code",
   "execution_count": 3,
   "source": [
    "prime_number(90)"
   ],
   "outputs": [
    {
     "output_type": "stream",
     "name": "stdout",
     "text": [
      "[2, 3, 5, 7, 11, 13, 17, 19, 23, 29, 31, 37, 41, 43, 47, 53, 59, 61, 67, 71, 73, 79, 83, 89]\n"
     ]
    },
    {
     "output_type": "execute_result",
     "data": {
      "text/plain": [
       "24"
      ]
     },
     "metadata": {},
     "execution_count": 3
    }
   ],
   "metadata": {}
  },
  {
   "cell_type": "code",
   "execution_count": 4,
   "source": [
    "prime_number(9)"
   ],
   "outputs": [
    {
     "output_type": "stream",
     "name": "stdout",
     "text": [
      "[2, 3, 5, 7]\n"
     ]
    },
    {
     "output_type": "execute_result",
     "data": {
      "text/plain": [
       "4"
      ]
     },
     "metadata": {},
     "execution_count": 4
    }
   ],
   "metadata": {}
  },
  {
   "cell_type": "code",
   "execution_count": 1,
   "source": [
    "def upper_lower(s):\r\n",
    "    lower=0\r\n",
    "    upper=0\r\n",
    "    for letter in s:\r\n",
    "        if letter.isupper():\r\n",
    "            upper += 1\r\n",
    "        elif letter.islower():\r\n",
    "            lower +=1\r\n",
    "        else:\r\n",
    "            pass\r\n",
    "    print(f'The Original String: {s}')\r\n",
    "    print(f'Upper case count: {upper}')\r\n",
    "    print(f'Lower case count: {lower}')"
   ],
   "outputs": [],
   "metadata": {}
  },
  {
   "cell_type": "code",
   "execution_count": 2,
   "source": [
    "s='Hay there how are you Rex, I am fine'\r\n",
    "upper_lower(s)"
   ],
   "outputs": [
    {
     "output_type": "stream",
     "name": "stdout",
     "text": [
      "The Original String: Hay there how are you Rex, I am fine\n",
      "Upper case count: 3\n",
      "Lower case count: 24\n"
     ]
    }
   ],
   "metadata": {}
  },
  {
   "cell_type": "code",
   "execution_count": 5,
   "source": [
    "def up_low(s):\r\n",
    "    d={'upper':0,'lower':0}\r\n",
    "    for letter in s:\r\n",
    "        if letter.isupper():\r\n",
    "            d['upper'] += 1\r\n",
    "        elif letter.islower():\r\n",
    "            d['lower'] +=1\r\n",
    "        else:\r\n",
    "            pass\r\n",
    "    print(f'The Original String: {s}')\r\n",
    "    print(f'Upper case count: {d[\"upper\"]}')\r\n",
    "    print(f'Lower case count: {d[\"lower\"]}')"
   ],
   "outputs": [],
   "metadata": {}
  },
  {
   "cell_type": "code",
   "execution_count": 6,
   "source": [
    "s='Hay there how are you Rex, I am fine'\n",
    "up_low(s)"
   ],
   "outputs": [
    {
     "output_type": "stream",
     "name": "stdout",
     "text": [
      "The Original String: Hay there how are you Rex, I am fine\n",
      "Upper case count: 3\n",
      "Lower case count: 24\n"
     ]
    }
   ],
   "metadata": {}
  },
  {
   "cell_type": "code",
   "execution_count": 25,
   "source": [
    "def unique(lst):\n",
    "    return list(set(lst))"
   ],
   "outputs": [],
   "metadata": {}
  },
  {
   "cell_type": "code",
   "execution_count": 29,
   "source": [
    "def pliandrome(s):\n",
    "    s = s.replace(' ','')\n",
    "    return s == s[::-1]"
   ],
   "outputs": [],
   "metadata": {}
  },
  {
   "cell_type": "code",
   "execution_count": 30,
   "source": [
    "pliandrome(\"malayalam\")"
   ],
   "outputs": [
    {
     "output_type": "execute_result",
     "data": {
      "text/plain": [
       "True"
      ]
     },
     "metadata": {},
     "execution_count": 30
    }
   ],
   "metadata": {}
  },
  {
   "cell_type": "code",
   "execution_count": 4,
   "source": [
    "def user_choice():\n",
    "    choice='WRONG'\n",
    "    accept_range=range(0,10)\n",
    "    within_range=False\n",
    "    while choice.isdigit()==False or within_range==False:\n",
    "        choice=input(\"Enter a number between(0-9):\")\n",
    "        if choice.isdigit()==False:\n",
    "            print(\"Sorry it is not a digit!\")\n",
    "        if choice.isdigit()==True:\n",
    "            if int(choice) in accept_range:\n",
    "                within_range=True\n",
    "            else:\n",
    "                print(\"Sorry you are out of the acceptable range\")\n",
    "                within_range=False\n",
    "    return int(choice)"
   ],
   "outputs": [],
   "metadata": {}
  },
  {
   "cell_type": "code",
   "execution_count": 5,
   "source": [
    "user_choice()"
   ],
   "outputs": [
    {
     "output_type": "stream",
     "name": "stdout",
     "text": [
      "Sorry it is not a digit!\n",
      "Sorry you are out of the acceptable range\n"
     ]
    },
    {
     "output_type": "execute_result",
     "data": {
      "text/plain": [
       "8"
      ]
     },
     "metadata": {},
     "execution_count": 5
    }
   ],
   "metadata": {}
  },
  {
   "cell_type": "code",
   "execution_count": null,
   "source": [],
   "outputs": [],
   "metadata": {}
  }
 ]
}