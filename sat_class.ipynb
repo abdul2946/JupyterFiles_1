{
 "cells": [
  {
   "cell_type": "code",
   "execution_count": 1,
   "source": [
    "class Student:\r\n",
    "    def __init__(self, name, roll_no):\r\n",
    "        self.name=name\r\n",
    "        self.roll_no=roll_no\r\n",
    "s1=Student('Dragon',100)\r\n",
    "s2=Student('Tiger',101)\r\n",
    "print(s1.__dict__)        "
   ],
   "outputs": [
    {
     "output_type": "stream",
     "name": "stdout",
     "text": [
      "{'name': 'Dragon', 'roll_no': 100}\n"
     ]
    }
   ],
   "metadata": {}
  },
  {
   "cell_type": "code",
   "execution_count": null,
   "source": [
    "# Library Management System\r\n",
    "# Date: 27.07.21\r\n",
    "# Python Homework\r\n",
    "class Librery:\r\n",
    "    def setName(self, name):\r\n",
    "        self.name=name\r\n",
    "    def getName(self):\r\n",
    "        return self.name\r\n",
    "    def setAuthor(self, author):\r\n",
    "        self.author=author\r\n",
    "    def getAuthor(self):\r\n",
    "        return self.author\r\n",
    "    def setNumber(self, number):\r\n",
    "        self.number=number\r\n",
    "    def getNumber(self):\r\n",
    "        return self.number\r\n",
    "    def setStudent(self, student):\r\n",
    "        self.student=student\r\n",
    "    def getStudent(self):\r\n",
    "        return self.student\r\n",
    "print(\"\\n\\n----MAIN MENU----\")\r\n",
    "print(\"\\n1. Create new Book Entry\")\r\n",
    "print(\"2. Display all Book Entry\")\r\n",
    "print(\"3. Delete all Book Entry\")\r\n",
    "print(\"4. Issue a Book\")\r\n",
    "print(\"5. Show all Book Issues\")\r\n",
    "print(\"6. Exit\")\r\n",
    "print(\"----------------------------\")\r\n",
    "while True:\r\n",
    "    choice=input(\"\\nEnter your choice: \")\r\n",
    "    if choice in('1','2','3','4','5','6'):\r\n",
    "        if choice == '1':\r\n",
    "            n=int(input(\"\\nEnter the number of Books you want to Enter: \"))\r\n",
    "            matrix=[]\r\n",
    "            for i in range(n):\r\n",
    "                a=[]\r\n",
    "                for j in range(1):\r\n",
    "                    name=input(\"\\nEnter the Book Name: \")\r\n",
    "                    author=input(\"Enter the Author Name: \")\r\n",
    "                    number=input(\"Enter the Book Number: \")\r\n",
    "                    l=Librery()\r\n",
    "                    l.setName(name)\r\n",
    "                    l.setAuthor(author)\r\n",
    "                    l.setNumber(number)\r\n",
    "                    a.append(\"Book Name:   \"+l.getName())\r\n",
    "                    a.append(\"Book Author:   \"+l.getAuthor())\r\n",
    "                    a.append(\"Book number:   \"+l.getNumber())\r\n",
    "                matrix.append(a,\"\\n\")\r\n",
    "        elif choice == '2':\r\n",
    "            print(matrix)\r\n",
    "        elif choice == '3':\r\n",
    "            matrix.clear()\r\n",
    "        elif choice == '4':\r\n",
    "            m=int(input(\"\\nEnter the number of Books you want to Issue: \"))\r\n",
    "            books=[]\r\n",
    "            for i in range(m):\r\n",
    "                b=[]\r\n",
    "                for j in range(1):\r\n",
    "                    bookName=input(\"\\nEnter the Book Name: \")\r\n",
    "                    bookAuthor=input(\"Enter the Books Author: \")\r\n",
    "                    bookNumber=input(\"Enter the Book Number: \")\r\n",
    "                    studentName=input(\"Enter the Student Name: \")\r\n",
    "                    l1=Librery()\r\n",
    "                    l1.setName(bookName)\r\n",
    "                    l1.setAuthor(bookAuthor)\r\n",
    "                    l1.setNumber(bookNumber)\r\n",
    "                    l1.setStudent(studentName)\r\n",
    "                    b.append(\"Book Name:  \"+l1.getName())\r\n",
    "                    b.append(\"Book Author:  \"+l1.getAuthor())\r\n",
    "                    b.append(\"Book number:  \"+l1.getNumber())\r\n",
    "                    b.append(\"Student Name:  \"+l1.getStudent())\r\n",
    "                books.append(b)\r\n",
    "        elif choice == '5':\r\n",
    "            print(books)\r\n",
    "        elif  choice == '6':\r\n",
    "            break\r\n",
    "    else:\r\n",
    "        print(\"\\nEnter a valid input\")"
   ],
   "outputs": [],
   "metadata": {}
  },
  {
   "cell_type": "code",
   "execution_count": 6,
   "source": [
    "class Students:\r\n",
    "    def __init__(self, name, roll):\r\n",
    "        self.name=name\r\n",
    "        self.roll=roll\r\n",
    "    def info(self):\r\n",
    "        self.marks=70\r\n",
    "        x=10\r\n",
    "        print(x)\r\n",
    "s1=Students('Meniac',4)\r\n",
    "s2=Students('Savage',5)\r\n",
    "s1.info()\r\n",
    "s2.info()\r\n",
    "s1.age=20\r\n",
    "s2.age=35\r\n",
    "print(s1.__dict__)\r\n",
    "print(s2.__dict__)"
   ],
   "outputs": [
    {
     "output_type": "stream",
     "name": "stdout",
     "text": [
      "10\n",
      "10\n",
      "{'name': 'Meniac', 'roll': 4, 'marks': 70, 'age': 20}\n",
      "{'name': 'Savage', 'roll': 5, 'marks': 70, 'age': 35}\n"
     ]
    }
   ],
   "metadata": {}
  },
  {
   "cell_type": "code",
   "execution_count": 8,
   "source": [
    "class Test:\r\n",
    "    def __init__(self):\r\n",
    "        self.a=10\r\n",
    "        self.b=22\r\n",
    "        self.c=30\r\n",
    "    def n1(self):\r\n",
    "        self.d=40\r\n",
    "    def n2(self):\r\n",
    "        self.e=50\r\n",
    "t1=Test()\r\n",
    "t1.n1()\r\n",
    "t2=Test()\r\n",
    "t2.n2()\r\n",
    "t2.s=200\r\n",
    "t2.y=300\r\n",
    "print(s1.__dict__)\r\n",
    "print(s2.__dict__) "
   ],
   "outputs": [
    {
     "output_type": "stream",
     "name": "stdout",
     "text": [
      "{'name': 'Meniac', 'roll': 4, 'marks': 70, 'age': 20}\n",
      "{'name': 'Savage', 'roll': 5, 'marks': 70, 'age': 35}\n"
     ]
    }
   ],
   "metadata": {}
  },
  {
   "cell_type": "code",
   "execution_count": 1,
   "source": [
    "class Test:\r\n",
    "    @staticmethod\r\n",
    "    def m1():\r\n",
    "        print(\"Hello there\")"
   ],
   "outputs": [],
   "metadata": {}
  },
  {
   "cell_type": "code",
   "execution_count": 2,
   "source": [
    "Test.m1()"
   ],
   "outputs": [
    {
     "output_type": "stream",
     "name": "stdout",
     "text": [
      "Hello there\n"
     ]
    }
   ],
   "metadata": {}
  },
  {
   "cell_type": "code",
   "execution_count": 4,
   "source": [
    "t=Test()\r\n",
    "t.m1()"
   ],
   "outputs": [
    {
     "output_type": "stream",
     "name": "stdout",
     "text": [
      "Hello there\n"
     ]
    }
   ],
   "metadata": {}
  },
  {
   "cell_type": "code",
   "execution_count": 5,
   "source": [
    "class Test1:\r\n",
    "    def m1(x):\r\n",
    "        print(x)"
   ],
   "outputs": [],
   "metadata": {}
  },
  {
   "cell_type": "code",
   "execution_count": 6,
   "source": [
    "t=Test()\r\n",
    "Test.m1()"
   ],
   "outputs": [
    {
     "output_type": "stream",
     "name": "stdout",
     "text": [
      "Hello there\n"
     ]
    }
   ],
   "metadata": {}
  },
  {
   "cell_type": "code",
   "execution_count": 1,
   "source": [
    "#Area of the circle\r\n",
    "class Circle():\r\n",
    "    pi=22/7\r\n",
    "    def __init__(self,redius=1):\r\n",
    "        self.redius=redius\r\n",
    "    def area(self):\r\n",
    "        return self.redius*self.redius*Circle.pi\r\n",
    "    def setRedius(self,new_redius):\r\n",
    "        self.redius=new_redius\r\n",
    "\r\n",
    "n=int(input(\"Enter the redius: \"))\r\n",
    "myc=Circle()\r\n",
    "myc.setRedius(n)\r\n",
    "print(myc.area())"
   ],
   "outputs": [
    {
     "output_type": "stream",
     "name": "stdout",
     "text": [
      "113.04\n"
     ]
    }
   ],
   "metadata": {}
  },
  {
   "cell_type": "code",
   "execution_count": null,
   "source": [],
   "outputs": [],
   "metadata": {}
  }
 ],
 "metadata": {
  "orig_nbformat": 4,
  "language_info": {
   "name": "python",
   "version": "3.9.6",
   "mimetype": "text/x-python",
   "codemirror_mode": {
    "name": "ipython",
    "version": 3
   },
   "pygments_lexer": "ipython3",
   "nbconvert_exporter": "python",
   "file_extension": ".py"
  },
  "kernelspec": {
   "name": "python3",
   "display_name": "Python 3.9.6 64-bit"
  },
  "interpreter": {
   "hash": "63d8ba1a1936979f6c1afb98ddad62bf0705318e79d81cde0225aaba8dd9c781"
  }
 },
 "nbformat": 4,
 "nbformat_minor": 2
}