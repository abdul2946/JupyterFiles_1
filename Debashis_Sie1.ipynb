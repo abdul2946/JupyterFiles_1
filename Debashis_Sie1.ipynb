{
 "cells": [
  {
   "cell_type": "code",
   "execution_count": 1,
   "metadata": {},
   "outputs": [
    {
     "name": "stdout",
     "output_type": "stream",
     "text": [
      "Brand : Ford\n",
      "Model : Bronco\n",
      "Type : SUV(Off roading)\n"
     ]
    }
   ],
   "source": [
    "cars={'Brand':'Ford','Model':'Bronco','Type':'SUV(Off roading)'}\n",
    "for i in cars:\n",
    "    print(i+' : '+ str(cars.get(i)))"
   ]
  },
  {
   "cell_type": "code",
   "execution_count": 2,
   "metadata": {},
   "outputs": [
    {
     "name": "stdout",
     "output_type": "stream",
     "text": [
      "Brand -> Ford\n",
      "Model -> Bronco\n",
      "Type -> SUV(Off roading)\n"
     ]
    }
   ],
   "source": [
    "for i,j in cars.items():\n",
    "    print(i+' -> '+j)"
   ]
  },
  {
   "cell_type": "code",
   "execution_count": 4,
   "metadata": {},
   "outputs": [],
   "source": [
    "cars['Brand']='Tata'"
   ]
  },
  {
   "cell_type": "code",
   "execution_count": 5,
   "metadata": {},
   "outputs": [
    {
     "name": "stdout",
     "output_type": "stream",
     "text": [
      "{'Brand': 'Tata', 'Model': 'Bronco', 'Type': 'SUV(Off roading)'}\n"
     ]
    }
   ],
   "source": [
    "print(cars)"
   ]
  },
  {
   "cell_type": "code",
   "execution_count": null,
   "metadata": {},
   "outputs": [
    {
     "name": "stdout",
     "output_type": "stream",
     "text": [
      "{1, 2, 3, 4}\n",
      "{1, 3, 'How are you?', (1, 2, 3)}\n"
     ]
    }
   ],
   "source": [
    "# Set can not contain Duplicate data\n",
    "my_set1={1,2,3,4,3,2}\n",
    "print(my_set1)\n",
    "# Set can contain multiple data types also mixed data type\n",
    "my_set2={1,3,'How are you?',(1,2,3)}\n",
    "print(my_set2)\n",
    "# Set con not contain Mutabe data types such as (Lists, Dicsnery)"
   ]
  },
  {
   "cell_type": "code",
   "execution_count": null,
   "metadata": {},
   "outputs": [
    {
     "name": "stdout",
     "output_type": "stream",
     "text": [
      "{1, 2, 3}\n"
     ]
    }
   ],
   "source": [
    "# Creating a set from a list is possible\n",
    "list1=[]\n",
    "n=int(input(\"Enter the number of elements you wnt to enter in the list: \"))\n",
    "for i in range(n):\n",
    "    a=int(input())\n",
    "    list1.append(a)\n",
    "myset=set(list1)\n",
    "print(myset)    "
   ]
  },
  {
   "cell_type": "code",
   "execution_count": 3,
   "metadata": {},
   "outputs": [
    {
     "name": "stdout",
     "output_type": "stream",
     "text": [
      "4\n"
     ]
    }
   ],
   "source": [
    "def main():\n",
    "    arg=4\n",
    "    square(arg)\n",
    "    print(arg)\n",
    "    \n",
    "def square(n):\n",
    "    n*=n\n",
    "\n",
    "main()"
   ]
  },
  {
   "cell_type": "code",
   "execution_count": null,
   "metadata": {},
   "outputs": [
    {
     "name": "stdout",
     "output_type": "stream",
     "text": [
      "None\n"
     ]
    }
   ],
   "source": [
    "def hello():\n",
    "    arg=3\n",
    "    return mult(arg)\n",
    "def mult(x):\n",
    "    x*=x\n",
    "print(hello())"
   ]
  },
  {
   "cell_type": "code",
   "execution_count": null,
   "metadata": {},
   "outputs": [
    {
     "name": "stdout",
     "output_type": "stream",
     "text": [
      "[3, 6, 9, 12, 30, 369, 36]\n"
     ]
    }
   ],
   "source": [
    "ls={1,2,3,4,10,123,24}\n",
    "oddlist=list(map(lambda x:x*3,ls))\n",
    "print(oddlist)"
   ]
  },
  {
   "cell_type": "code",
   "execution_count": null,
   "metadata": {},
   "outputs": [],
   "source": []
  }
 ],
 "metadata": {
  "interpreter": {
   "hash": "684b34610399c62024b1c5144dbfa2579ac6146b8860a50a8c0839442603aeca"
  },
  "kernelspec": {
   "display_name": "Python 3.10.0 64-bit",
   "name": "python3"
  },
  "language_info": {
   "codemirror_mode": {
    "name": "ipython",
    "version": 3
   },
   "file_extension": ".py",
   "mimetype": "text/x-python",
   "name": "python",
   "nbconvert_exporter": "python",
   "pygments_lexer": "ipython3",
   "version": "3.10.0"
  },
  "orig_nbformat": 4
 },
 "nbformat": 4,
 "nbformat_minor": 2
}
